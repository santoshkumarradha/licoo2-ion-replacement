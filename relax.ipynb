{
 "metadata": {
  "language_info": {
   "codemirror_mode": {
    "name": "ipython",
    "version": 3
   },
   "file_extension": ".py",
   "mimetype": "text/x-python",
   "name": "python",
   "nbconvert_exporter": "python",
   "pygments_lexer": "ipython3",
   "version": "3.7.9-final"
  },
  "orig_nbformat": 2,
  "kernelspec": {
   "name": "python37964bitdftconda558391e9eab746b287e15b580c985ea8",
   "display_name": "Python 3.7.9 64-bit ('dft': conda)"
  }
 },
 "nbformat": 4,
 "nbformat_minor": 2,
 "cells": [
  {
   "cell_type": "code",
   "execution_count": 1,
   "metadata": {},
   "outputs": [],
   "source": [
    "from pymatgen.core import Structure as p\n",
    "from pymatgen.io import pwscf\n",
    "from matplotlib import pyplot as plt\n",
    "from pymatgen.symmetry.analyzer  import SpacegroupAnalyzer as sym\n",
    "import numpy as np\n",
    "from pymatgen.core.units import ArrayWithUnit as conv\n",
    "\n",
    "def remove_coords(fname=\"scf.in\"):\n",
    "    with open(fname) as f1:\n",
    "        lines = f1.readlines()\n",
    "\n",
    "    with open(fname,\"w\") as f2:\n",
    "        f2.writelines(lines[:-4])"
   ]
  },
  {
   "cell_type": "code",
   "execution_count": 9,
   "metadata": {},
   "outputs": [],
   "source": [
    "s=p.from_file(\"nacoo2.cif\")\n",
    "s.replace_species({\"Na\":\"K\"})\n",
    "s.scale_lattice(s.volume*1.05)\n",
    "\n",
    "pseudo={\"K\":\"K.pbe-spn-kjpaw_psl.1.0.0.UPF\",\n",
    "        \"Co\":\"Co.pbe-n-kjpaw_psl.1.0.0.UPF\",\n",
    "        \"O\":\"O.pbe-n-kjpaw_psl.1.0.0.UPF\"}\n",
    "control={'pseudo_dir' : '/home/srr70/QE/pseudo/pslibrary.1.0.0/pbe/PSEUDOPOTENTIALS/',\n",
    "        'verbosity' :'high',\n",
    "         'prefix':'lco',\n",
    "        'calculation': 'vc-relax',\n",
    "         'restart_mode':'from_scratch',\n",
    "         'nstep':100,\n",
    "         'wf_collect':True,\n",
    "        'outdir': './',\n",
    "        'tprnfor':True,\n",
    "        'tstress':True}\n",
    "system={\"ecutwfc\":120.0 ,\n",
    "        \"ecutrho\" :240.0,\n",
    "        \"occupations\":'smearing',\n",
    "        \"smearing\":'mp',\n",
    "        \"degauss\":0.02,}\n",
    "electrons={\"diagonalization\":'david'}\n",
    "pw=pwscf.PWInput(s,pseudo=pseudo,\n",
    "                 control=control,\n",
    "                 kpoints_grid=(8,8,2),\n",
    "                 electrons=electrons,\n",
    "                system=system)\n",
    "pw.write_file(\"scf.in\")"
   ]
  },
  {
   "cell_type": "code",
   "execution_count": 17,
   "metadata": {},
   "outputs": [],
   "source": [
    "from collections import OrderedDict\n",
    "import matplotlib.pyplot as plt\n",
    "data=OrderedDict()\n",
    "data[\"H\"]={\"Volume\":586.0120,\"energy\":-739.03682319}\n",
    "data[\"Li\"]={\"Volume\":665.3982,\"energy\":-781.76631349}\n",
    "data[\"Na\"]={\"Volume\":781.1010,\"energy\":-1064.22638864}\n",
    "data[\"K\"]={\"Volume\":920.2520,\"energy\":-1075.36655421}\n",
    "data[\"Cs\"]={\"Volume\":1117.0463,\"energy\":-1983.30528865}"
   ]
  },
  {
   "cell_type": "code",
   "execution_count": null,
   "metadata": {},
   "outputs": [],
   "source": []
  }
 ]
}